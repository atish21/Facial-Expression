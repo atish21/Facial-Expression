{
 "cells": [
  {
   "cell_type": "code",
   "execution_count": 1,
   "metadata": {},
   "outputs": [],
   "source": [
    "from __future__ import print_function\n",
    "import tensorflow as tf\n",
    "from tensorflow import keras\n",
    "from tensorflow.keras.preprocessing.image import ImageDataGenerator\n",
    "from tensorflow.keras.models import Sequential"
   ]
  },
  {
   "cell_type": "code",
   "execution_count": 2,
   "metadata": {},
   "outputs": [],
   "source": [
    "train_dir = 'C:/Users/Atisha/OneDrive/Desktop/facialexpression/train'\n",
    "validation_dir = 'C:/Users/Atisha/OneDrive/Desktop/facialexpression/validation'"
   ]
  },
  {
   "cell_type": "code",
   "execution_count": 3,
   "metadata": {},
   "outputs": [],
   "source": [
    "row, col = 48,48"
   ]
  },
  {
   "cell_type": "code",
   "execution_count": 4,
   "metadata": {},
   "outputs": [],
   "source": [
    "model=tf.keras.Sequential([\n",
    "                             tf.keras.layers.Conv2D(16, (3,3), activation='relu', input_shape=(row, col, 1)),\n",
    "                             tf.keras.layers.MaxPooling2D(2,2),\n",
    "                             tf.keras.layers.Conv2D(32, (3,3), activation='relu'),\n",
    "                             tf.keras.layers.MaxPooling2D(2,2),\n",
    "                             tf.keras.layers.Conv2D(32, (3,3), activation='relu'),\n",
    "                             tf.keras.layers.MaxPooling2D(2,2),\n",
    "                             tf.keras.layers.Conv2D(64, (3,3), activation='relu'),\n",
    "                             tf.keras.layers.MaxPooling2D(2,2),\n",
    "                             tf.keras.layers.Flatten(),\n",
    "                             tf.keras.layers.Dense(512,activation='relu'),\n",
    "                             tf.keras.layers.Dense(7,activation='softmax')])"
   ]
  },
  {
   "cell_type": "code",
   "execution_count": 5,
   "metadata": {},
   "outputs": [],
   "source": [
    "from tensorflow.keras.optimizers import RMSprop"
   ]
  },
  {
   "cell_type": "code",
   "execution_count": 6,
   "metadata": {},
   "outputs": [],
   "source": [
    "model.compile(loss='categorical_crossentropy', optimizer= RMSprop(lr=0.0001), metrics=['accuracy'])"
   ]
  },
  {
   "cell_type": "code",
   "execution_count": 7,
   "metadata": {},
   "outputs": [],
   "source": [
    "train_datagen = ImageDataGenerator(\n",
    "    rescale=1./255,\n",
    "    rotation_range = 40,\n",
    "    width_shift_range=0.2,\n",
    "    height_shift_range=0.2,\n",
    "    shear_range=0.2 ,\n",
    "    zoom_range=0.2,\n",
    "    horizontal_flip=True,\n",
    "    fill_mode='nearest'\n",
    ")"
   ]
  },
  {
   "cell_type": "code",
   "execution_count": 8,
   "metadata": {},
   "outputs": [
    {
     "name": "stdout",
     "output_type": "stream",
     "text": [
      "Found 25150 images belonging to 7 classes.\n"
     ]
    }
   ],
   "source": [
    "train_generator = train_datagen.flow_from_directory(\n",
    "    'C:/Users/Atisha/OneDrive/Desktop/facialexpression/train',\n",
    "    target_size=(48,48),\n",
    "    class_mode='categorical',\n",
    "    batch_size=35,\n",
    "    shuffle=True,\n",
    "    color_mode='grayscale'\n",
    ")"
   ]
  },
  {
   "cell_type": "code",
   "execution_count": 9,
   "metadata": {},
   "outputs": [],
   "source": [
    "validation_datagen = ImageDataGenerator(rescale= 1./255)"
   ]
  },
  {
   "cell_type": "code",
   "execution_count": 10,
   "metadata": {},
   "outputs": [
    {
     "name": "stdout",
     "output_type": "stream",
     "text": [
      "Found 3589 images belonging to 7 classes.\n"
     ]
    }
   ],
   "source": [
    "validation_generator = validation_datagen.flow_from_directory(\n",
    "    'C:/Users/Atisha/OneDrive/Desktop/facialexpression/validation',\n",
    "    target_size=(48,48),\n",
    "    class_mode= 'categorical',\n",
    "    batch_size=35,\n",
    "    color_mode='grayscale')"
   ]
  },
  {
   "cell_type": "code",
   "execution_count": 11,
   "metadata": {},
   "outputs": [
    {
     "name": "stdout",
     "output_type": "stream",
     "text": [
      "WARNING:tensorflow:From <ipython-input-11-b382cbb99a94>:5: Model.fit_generator (from tensorflow.python.keras.engine.training) is deprecated and will be removed in a future version.\n",
      "Instructions for updating:\n",
      "Please use Model.fit, which supports generators.\n",
      "WARNING:tensorflow:sample_weight modes were coerced from\n",
      "  ...\n",
      "    to  \n",
      "  ['...']\n",
      "WARNING:tensorflow:sample_weight modes were coerced from\n",
      "  ...\n",
      "    to  \n",
      "  ['...']\n",
      "Train for 45 steps, validate for 103 steps\n",
      "Epoch 1/100\n",
      "45/45 [==============================] - 18s 399ms/step - loss: 1.8732 - accuracy: 0.2705 - val_loss: 1.8801 - val_accuracy: 0.2449\n",
      "Epoch 2/100\n",
      "45/45 [==============================] - 8s 173ms/step - loss: 1.7315 - accuracy: 0.2800 - val_loss: 1.9177 - val_accuracy: 0.2449\n",
      "Epoch 3/100\n",
      "45/45 [==============================] - 8s 170ms/step - loss: 1.7055 - accuracy: 0.2978 - val_loss: 1.9689 - val_accuracy: 0.2449\n",
      "Epoch 4/100\n",
      "45/45 [==============================] - 7s 160ms/step - loss: 1.6796 - accuracy: 0.2978 - val_loss: 1.9945 - val_accuracy: 0.2449\n",
      "Epoch 5/100\n",
      "45/45 [==============================] - 7s 149ms/step - loss: 1.7137 - accuracy: 0.2990 - val_loss: 1.9592 - val_accuracy: 0.2449\n",
      "Epoch 6/100\n",
      "45/45 [==============================] - 8s 168ms/step - loss: 1.7279 - accuracy: 0.2641 - val_loss: 1.9641 - val_accuracy: 0.2449\n",
      "Epoch 7/100\n",
      "45/45 [==============================] - 8s 171ms/step - loss: 1.7149 - accuracy: 0.2711 - val_loss: 1.9945 - val_accuracy: 0.2449\n",
      "Epoch 8/100\n",
      "45/45 [==============================] - 7s 162ms/step - loss: 1.7081 - accuracy: 0.2978 - val_loss: 1.9854 - val_accuracy: 0.2449\n",
      "Epoch 9/100\n",
      "45/45 [==============================] - 7s 160ms/step - loss: 1.6706 - accuracy: 0.2889 - val_loss: 2.0351 - val_accuracy: 0.2449\n",
      "Epoch 10/100\n",
      "45/45 [==============================] - 7s 145ms/step - loss: 1.7009 - accuracy: 0.2870 - val_loss: 2.0062 - val_accuracy: 0.2449\n",
      "Epoch 11/100\n",
      "45/45 [==============================] - 6s 142ms/step - loss: 1.6930 - accuracy: 0.2927 - val_loss: 2.0199 - val_accuracy: 0.2449\n",
      "Epoch 12/100\n",
      "45/45 [==============================] - 6s 135ms/step - loss: 1.7151 - accuracy: 0.2762 - val_loss: 2.0229 - val_accuracy: 0.2449\n",
      "Epoch 13/100\n",
      "45/45 [==============================] - 6s 132ms/step - loss: 1.7059 - accuracy: 0.2863 - val_loss: 2.0054 - val_accuracy: 0.2449\n",
      "Epoch 14/100\n",
      "45/45 [==============================] - 6s 131ms/step - loss: 1.6830 - accuracy: 0.3022 - val_loss: 1.9983 - val_accuracy: 0.2449\n",
      "Epoch 15/100\n",
      "45/45 [==============================] - 6s 134ms/step - loss: 1.7234 - accuracy: 0.2819 - val_loss: 1.9729 - val_accuracy: 0.2449\n",
      "Epoch 16/100\n",
      "45/45 [==============================] - 6s 144ms/step - loss: 1.7148 - accuracy: 0.2863 - val_loss: 1.9798 - val_accuracy: 0.2449\n",
      "Epoch 17/100\n",
      "45/45 [==============================] - 6s 142ms/step - loss: 1.7054 - accuracy: 0.3038 - val_loss: 1.9610 - val_accuracy: 0.2449\n",
      "Epoch 18/100\n",
      "45/45 [==============================] - 6s 137ms/step - loss: 1.6923 - accuracy: 0.2851 - val_loss: 1.9844 - val_accuracy: 0.2449\n",
      "Epoch 19/100\n",
      "45/45 [==============================] - 6s 138ms/step - loss: 1.7027 - accuracy: 0.2756 - val_loss: 1.9775 - val_accuracy: 0.2449\n",
      "Epoch 20/100\n",
      "45/45 [==============================] - 6s 123ms/step - loss: 1.7108 - accuracy: 0.2800 - val_loss: 1.9644 - val_accuracy: 0.2449\n",
      "Epoch 21/100\n",
      "45/45 [==============================] - 6s 125ms/step - loss: 1.6795 - accuracy: 0.2870 - val_loss: 2.0174 - val_accuracy: 0.2452\n",
      "Epoch 22/100\n",
      "45/45 [==============================] - 6s 132ms/step - loss: 1.6823 - accuracy: 0.2921 - val_loss: 1.9917 - val_accuracy: 0.2446\n",
      "Epoch 23/100\n",
      "45/45 [==============================] - 6s 133ms/step - loss: 1.6846 - accuracy: 0.2927 - val_loss: 1.9938 - val_accuracy: 0.2483\n",
      "Epoch 24/100\n",
      "45/45 [==============================] - 6s 137ms/step - loss: 1.6798 - accuracy: 0.2984 - val_loss: 1.9856 - val_accuracy: 0.2455\n",
      "Epoch 25/100\n",
      "45/45 [==============================] - 6s 141ms/step - loss: 1.6882 - accuracy: 0.2787 - val_loss: 1.9973 - val_accuracy: 0.2460\n",
      "Epoch 26/100\n",
      "45/45 [==============================] - 6s 142ms/step - loss: 1.6977 - accuracy: 0.2857 - val_loss: 1.9845 - val_accuracy: 0.2458\n",
      "Epoch 27/100\n",
      "45/45 [==============================] - 6s 143ms/step - loss: 1.6849 - accuracy: 0.2768 - val_loss: 1.9861 - val_accuracy: 0.2469\n",
      "Epoch 28/100\n",
      "45/45 [==============================] - 6s 134ms/step - loss: 1.6823 - accuracy: 0.2813 - val_loss: 1.9876 - val_accuracy: 0.2471\n",
      "Epoch 29/100\n",
      "45/45 [==============================] - 6s 135ms/step - loss: 1.6524 - accuracy: 0.2965 - val_loss: 2.0403 - val_accuracy: 0.2477\n",
      "Epoch 30/100\n",
      "45/45 [==============================] - 6s 137ms/step - loss: 1.6934 - accuracy: 0.2749 - val_loss: 1.9992 - val_accuracy: 0.2466\n",
      "Epoch 31/100\n",
      "45/45 [==============================] - 6s 140ms/step - loss: 1.6983 - accuracy: 0.2851 - val_loss: 1.9823 - val_accuracy: 0.2463\n",
      "Epoch 32/100\n",
      "45/45 [==============================] - 6s 137ms/step - loss: 1.6687 - accuracy: 0.2946 - val_loss: 1.9885 - val_accuracy: 0.2477\n",
      "Epoch 33/100\n",
      "45/45 [==============================] - 6s 132ms/step - loss: 1.6830 - accuracy: 0.2863 - val_loss: 2.0166 - val_accuracy: 0.2421\n",
      "Epoch 34/100\n",
      "45/45 [==============================] - 6s 129ms/step - loss: 1.6728 - accuracy: 0.2806 - val_loss: 1.9996 - val_accuracy: 0.2469\n",
      "Epoch 35/100\n",
      "45/45 [==============================] - 6s 142ms/step - loss: 1.7003 - accuracy: 0.2787 - val_loss: 1.9557 - val_accuracy: 0.2463\n",
      "Epoch 36/100\n",
      "45/45 [==============================] - 6s 126ms/step - loss: 1.6933 - accuracy: 0.2870 - val_loss: 1.9510 - val_accuracy: 0.2494\n",
      "Epoch 37/100\n",
      "45/45 [==============================] - 6s 134ms/step - loss: 1.6683 - accuracy: 0.2978 - val_loss: 1.9958 - val_accuracy: 0.2477\n",
      "Epoch 38/100\n",
      "45/45 [==============================] - 6s 131ms/step - loss: 1.6881 - accuracy: 0.2997 - val_loss: 1.9765 - val_accuracy: 0.2483\n",
      "Epoch 39/100\n",
      "45/45 [==============================] - 6s 132ms/step - loss: 1.6808 - accuracy: 0.2908 - val_loss: 1.9658 - val_accuracy: 0.2474\n",
      "Epoch 40/100\n",
      "45/45 [==============================] - 6s 139ms/step - loss: 1.6775 - accuracy: 0.2965 - val_loss: 1.9850 - val_accuracy: 0.2471\n",
      "Epoch 41/100\n",
      "45/45 [==============================] - 6s 132ms/step - loss: 1.6852 - accuracy: 0.2876 - val_loss: 1.9479 - val_accuracy: 0.2469\n",
      "Epoch 42/100\n",
      "45/45 [==============================] - 6s 130ms/step - loss: 1.6600 - accuracy: 0.2889 - val_loss: 1.9834 - val_accuracy: 0.2458\n",
      "Epoch 43/100\n",
      "45/45 [==============================] - 6s 134ms/step - loss: 1.7024 - accuracy: 0.2863 - val_loss: 1.9469 - val_accuracy: 0.2477\n",
      "Epoch 44/100\n",
      "45/45 [==============================] - 6s 122ms/step - loss: 1.6806 - accuracy: 0.2876 - val_loss: 1.9493 - val_accuracy: 0.2471\n",
      "Epoch 45/100\n",
      "45/45 [==============================] - 6s 126ms/step - loss: 1.6600 - accuracy: 0.2883 - val_loss: 1.9783 - val_accuracy: 0.2499\n",
      "Epoch 46/100\n",
      "45/45 [==============================] - 6s 127ms/step - loss: 1.6851 - accuracy: 0.3111 - val_loss: 1.9717 - val_accuracy: 0.2477\n",
      "Epoch 47/100\n",
      "45/45 [==============================] - 6s 125ms/step - loss: 1.6609 - accuracy: 0.3181 - val_loss: 1.9895 - val_accuracy: 0.2469\n",
      "Epoch 48/100\n",
      "45/45 [==============================] - 6s 132ms/step - loss: 1.6643 - accuracy: 0.2857 - val_loss: 2.0048 - val_accuracy: 0.2466\n",
      "Epoch 49/100\n",
      "45/45 [==============================] - 6s 132ms/step - loss: 1.6713 - accuracy: 0.2978 - val_loss: 1.9957 - val_accuracy: 0.2466\n",
      "Epoch 50/100\n",
      "45/45 [==============================] - 6s 132ms/step - loss: 1.6665 - accuracy: 0.2990 - val_loss: 1.9991 - val_accuracy: 0.2471\n",
      "Epoch 51/100\n",
      "45/45 [==============================] - 6s 134ms/step - loss: 1.6686 - accuracy: 0.2959 - val_loss: 1.9946 - val_accuracy: 0.2469\n",
      "Epoch 52/100\n",
      "45/45 [==============================] - 5s 120ms/step - loss: 1.6850 - accuracy: 0.2971 - val_loss: 1.9986 - val_accuracy: 0.2471\n",
      "Epoch 53/100\n",
      "45/45 [==============================] - 6s 129ms/step - loss: 1.6783 - accuracy: 0.2863 - val_loss: 1.9723 - val_accuracy: 0.2458\n",
      "Epoch 54/100\n",
      "45/45 [==============================] - 6s 132ms/step - loss: 1.6728 - accuracy: 0.2857 - val_loss: 1.9904 - val_accuracy: 0.2471\n"
     ]
    },
    {
     "name": "stdout",
     "output_type": "stream",
     "text": [
      "Epoch 55/100\n",
      "45/45 [==============================] - 6s 135ms/step - loss: 1.6647 - accuracy: 0.2933 - val_loss: 1.9926 - val_accuracy: 0.2483\n",
      "Epoch 56/100\n",
      "45/45 [==============================] - 6s 135ms/step - loss: 1.6544 - accuracy: 0.3054 - val_loss: 1.9918 - val_accuracy: 0.2474\n",
      "Epoch 57/100\n",
      "45/45 [==============================] - 6s 129ms/step - loss: 1.6664 - accuracy: 0.2654 - val_loss: 2.0155 - val_accuracy: 0.2483\n",
      "Epoch 58/100\n",
      "45/45 [==============================] - 6s 138ms/step - loss: 1.6783 - accuracy: 0.2717 - val_loss: 1.9693 - val_accuracy: 0.2469\n",
      "Epoch 59/100\n",
      "45/45 [==============================] - 6s 141ms/step - loss: 1.6588 - accuracy: 0.2865 - val_loss: 1.9850 - val_accuracy: 0.2477\n",
      "Epoch 60/100\n",
      "45/45 [==============================] - 6s 139ms/step - loss: 1.6774 - accuracy: 0.2876 - val_loss: 1.9833 - val_accuracy: 0.2488\n",
      "Epoch 61/100\n",
      "45/45 [==============================] - 6s 136ms/step - loss: 1.6779 - accuracy: 0.2863 - val_loss: 1.9656 - val_accuracy: 0.2480\n",
      "Epoch 62/100\n",
      "45/45 [==============================] - 6s 135ms/step - loss: 1.6562 - accuracy: 0.2997 - val_loss: 2.0058 - val_accuracy: 0.2497\n",
      "Epoch 63/100\n",
      "45/45 [==============================] - 6s 131ms/step - loss: 1.6541 - accuracy: 0.3003 - val_loss: 1.9991 - val_accuracy: 0.2483\n",
      "Epoch 64/100\n",
      "45/45 [==============================] - 6s 136ms/step - loss: 1.6668 - accuracy: 0.2870 - val_loss: 1.9776 - val_accuracy: 0.2407\n",
      "Epoch 65/100\n",
      "45/45 [==============================] - 6s 133ms/step - loss: 1.7007 - accuracy: 0.2724 - val_loss: 1.9514 - val_accuracy: 0.2552\n",
      "Epoch 66/100\n",
      "45/45 [==============================] - 6s 135ms/step - loss: 1.6814 - accuracy: 0.2851 - val_loss: 1.9443 - val_accuracy: 0.2499\n",
      "Epoch 67/100\n",
      "45/45 [==============================] - 6s 137ms/step - loss: 1.6537 - accuracy: 0.2971 - val_loss: 1.9784 - val_accuracy: 0.2555\n",
      "Epoch 68/100\n",
      "45/45 [==============================] - 6s 138ms/step - loss: 1.6539 - accuracy: 0.3067 - val_loss: 1.9810 - val_accuracy: 0.2483\n",
      "Epoch 69/100\n",
      "45/45 [==============================] - 6s 142ms/step - loss: 1.6737 - accuracy: 0.2857 - val_loss: 1.9858 - val_accuracy: 0.2485\n",
      "Epoch 70/100\n",
      "45/45 [==============================] - 6s 137ms/step - loss: 1.6867 - accuracy: 0.2921 - val_loss: 1.9565 - val_accuracy: 0.2572\n",
      "Epoch 71/100\n",
      "45/45 [==============================] - 6s 133ms/step - loss: 1.6661 - accuracy: 0.2889 - val_loss: 2.0108 - val_accuracy: 0.2469\n",
      "Epoch 72/100\n",
      "45/45 [==============================] - 7s 153ms/step - loss: 1.6727 - accuracy: 0.3010 - val_loss: 1.9787 - val_accuracy: 0.2466\n",
      "Epoch 73/100\n",
      "45/45 [==============================] - 6s 132ms/step - loss: 1.6920 - accuracy: 0.2717 - val_loss: 1.9584 - val_accuracy: 0.2563\n",
      "Epoch 74/100\n",
      "45/45 [==============================] - 6s 130ms/step - loss: 1.6826 - accuracy: 0.3016 - val_loss: 1.9317 - val_accuracy: 0.2488\n",
      "Epoch 75/100\n",
      "45/45 [==============================] - 6s 126ms/step - loss: 1.6742 - accuracy: 0.2908 - val_loss: 1.9513 - val_accuracy: 0.2499\n",
      "Epoch 76/100\n",
      "45/45 [==============================] - 6s 126ms/step - loss: 1.6754 - accuracy: 0.2965 - val_loss: 1.9493 - val_accuracy: 0.2483\n",
      "Epoch 77/100\n",
      "45/45 [==============================] - 6s 132ms/step - loss: 1.6797 - accuracy: 0.2971 - val_loss: 1.9507 - val_accuracy: 0.2488\n",
      "Epoch 78/100\n",
      "45/45 [==============================] - 6s 125ms/step - loss: 1.6811 - accuracy: 0.2965 - val_loss: 1.9447 - val_accuracy: 0.2480\n",
      "Epoch 79/100\n",
      "45/45 [==============================] - 6s 142ms/step - loss: 1.6827 - accuracy: 0.2997 - val_loss: 1.9297 - val_accuracy: 0.2591\n",
      "Epoch 80/100\n",
      "45/45 [==============================] - 6s 132ms/step - loss: 1.6546 - accuracy: 0.2959 - val_loss: 1.9833 - val_accuracy: 0.2494\n",
      "Epoch 81/100\n",
      "45/45 [==============================] - 6s 128ms/step - loss: 1.6625 - accuracy: 0.2908 - val_loss: 1.9769 - val_accuracy: 0.2488\n",
      "Epoch 82/100\n",
      "45/45 [==============================] - 6s 123ms/step - loss: 1.6688 - accuracy: 0.2832 - val_loss: 1.9524 - val_accuracy: 0.2616\n",
      "Epoch 83/100\n",
      "45/45 [==============================] - 6s 137ms/step - loss: 1.6486 - accuracy: 0.2952 - val_loss: 1.9649 - val_accuracy: 0.2597\n",
      "Epoch 84/100\n",
      "45/45 [==============================] - 6s 138ms/step - loss: 1.6730 - accuracy: 0.2844 - val_loss: 1.9460 - val_accuracy: 0.2552\n",
      "Epoch 85/100\n",
      "45/45 [==============================] - 6s 133ms/step - loss: 1.6664 - accuracy: 0.2744 - val_loss: 1.9549 - val_accuracy: 0.2558\n",
      "Epoch 86/100\n",
      "45/45 [==============================] - 6s 129ms/step - loss: 1.6408 - accuracy: 0.2863 - val_loss: 2.0008 - val_accuracy: 0.2510accu\n",
      "Epoch 87/100\n",
      "45/45 [==============================] - 5s 121ms/step - loss: 1.6621 - accuracy: 0.3022 - val_loss: 1.9585 - val_accuracy: 0.2527\n",
      "Epoch 88/100\n",
      "45/45 [==============================] - 6s 130ms/step - loss: 1.6831 - accuracy: 0.2844 - val_loss: 1.9567 - val_accuracy: 0.2474\n",
      "Epoch 89/100\n",
      "45/45 [==============================] - 6s 132ms/step - loss: 1.6507 - accuracy: 0.2946 - val_loss: 1.9842 - val_accuracy: 0.2502\n",
      "Epoch 90/100\n",
      "45/45 [==============================] - 6s 140ms/step - loss: 1.6422 - accuracy: 0.2952 - val_loss: 1.9895 - val_accuracy: 0.2505\n",
      "Epoch 91/100\n",
      "45/45 [==============================] - 6s 134ms/step - loss: 1.6458 - accuracy: 0.2927 - val_loss: 1.9880 - val_accuracy: 0.2494\n",
      "Epoch 92/100\n",
      "45/45 [==============================] - 7s 156ms/step - loss: 1.6813 - accuracy: 0.2895 - val_loss: 1.9484 - val_accuracy: 0.2497\n",
      "Epoch 93/100\n",
      "45/45 [==============================] - 7s 153ms/step - loss: 1.6530 - accuracy: 0.2883 - val_loss: 1.9711 - val_accuracy: 0.2591\n",
      "Epoch 94/100\n",
      "45/45 [==============================] - 7s 155ms/step - loss: 1.6662 - accuracy: 0.3035 - val_loss: 1.9414 - val_accuracy: 0.2619\n",
      "Epoch 95/100\n",
      "45/45 [==============================] - 7s 156ms/step - loss: 1.6562 - accuracy: 0.2990 - val_loss: 1.9472 - val_accuracy: 0.2597\n",
      "Epoch 96/100\n",
      "45/45 [==============================] - 7s 152ms/step - loss: 1.6561 - accuracy: 0.2965 - val_loss: 1.9644 - val_accuracy: 0.2541\n",
      "Epoch 97/100\n",
      "45/45 [==============================] - 7s 157ms/step - loss: 1.6478 - accuracy: 0.2959 - val_loss: 1.9654 - val_accuracy: 0.2488\n",
      "Epoch 98/100\n",
      "45/45 [==============================] - 7s 147ms/step - loss: 1.6828 - accuracy: 0.2990 - val_loss: 1.9660 - val_accuracy: 0.2499\n",
      "Epoch 99/100\n",
      "45/45 [==============================] - 7s 150ms/step - loss: 1.6598 - accuracy: 0.2859 - val_loss: 1.9776 - val_accuracy: 0.2502\n",
      "Epoch 100/100\n",
      "45/45 [==============================] - 7s 153ms/step - loss: 1.6423 - accuracy: 0.2990 - val_loss: 1.9854 - val_accuracy: 0.2510\n"
     ]
    }
   ],
   "source": [
    "history= model.fit_generator(train_generator,\n",
    "                             epochs=100,\n",
    "                             steps_per_epoch=45,\n",
    "                             validation_data=validation_generator,\n",
    "                             verbose=1)"
   ]
  },
  {
   "cell_type": "code",
   "execution_count": 12,
   "metadata": {},
   "outputs": [],
   "source": [
    "from tensorflow.keras.models import load_model"
   ]
  },
  {
   "cell_type": "code",
   "execution_count": 13,
   "metadata": {},
   "outputs": [],
   "source": [
    "model.save('my_file1.h5')"
   ]
  },
  {
   "cell_type": "code",
   "execution_count": null,
   "metadata": {},
   "outputs": [],
   "source": []
  }
 ],
 "metadata": {
  "kernelspec": {
   "display_name": "Python 3",
   "language": "python",
   "name": "python3"
  },
  "language_info": {
   "codemirror_mode": {
    "name": "ipython",
    "version": 3
   },
   "file_extension": ".py",
   "mimetype": "text/x-python",
   "name": "python",
   "nbconvert_exporter": "python",
   "pygments_lexer": "ipython3",
   "version": "3.7.9"
  }
 },
 "nbformat": 4,
 "nbformat_minor": 4
}
